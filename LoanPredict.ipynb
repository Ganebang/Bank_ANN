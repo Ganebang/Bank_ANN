{
 "cells": [
  {
   "cell_type": "code",
   "execution_count": 125,
   "metadata": {},
   "outputs": [],
   "source": [
    "import pandas as pd\n",
    "import numpy as np\n",
    "from sklearn.model_selection import train_test_split\n",
    "from sklearn.metrics import classification_report\n",
    "from sklearn.metrics import accuracy_score\n",
    "import matplotlib.pyplot as plt"
   ]
  },
  {
   "cell_type": "code",
   "execution_count": 75,
   "metadata": {},
   "outputs": [],
   "source": [
    "df = pd.read_csv('loan_data.csv')"
   ]
  },
  {
   "cell_type": "code",
   "execution_count": 76,
   "metadata": {},
   "outputs": [
    {
     "data": {
      "text/html": [
       "<div>\n",
       "<style scoped>\n",
       "    .dataframe tbody tr th:only-of-type {\n",
       "        vertical-align: middle;\n",
       "    }\n",
       "\n",
       "    .dataframe tbody tr th {\n",
       "        vertical-align: top;\n",
       "    }\n",
       "\n",
       "    .dataframe thead th {\n",
       "        text-align: right;\n",
       "    }\n",
       "</style>\n",
       "<table border=\"1\" class=\"dataframe\">\n",
       "  <thead>\n",
       "    <tr style=\"text-align: right;\">\n",
       "      <th></th>\n",
       "      <th>Loan_ID</th>\n",
       "      <th>Gender</th>\n",
       "      <th>Married</th>\n",
       "      <th>Dependents</th>\n",
       "      <th>Education</th>\n",
       "      <th>Self_Employed</th>\n",
       "      <th>ApplicantIncome</th>\n",
       "      <th>CoapplicantIncome</th>\n",
       "      <th>LoanAmount</th>\n",
       "      <th>Loan_Amount_Term</th>\n",
       "      <th>Credit_History</th>\n",
       "      <th>Property_Area</th>\n",
       "      <th>Loan_Status</th>\n",
       "    </tr>\n",
       "  </thead>\n",
       "  <tbody>\n",
       "    <tr>\n",
       "      <th>0</th>\n",
       "      <td>LP001002</td>\n",
       "      <td>Male</td>\n",
       "      <td>No</td>\n",
       "      <td>0</td>\n",
       "      <td>Graduate</td>\n",
       "      <td>No</td>\n",
       "      <td>5849</td>\n",
       "      <td>0.0</td>\n",
       "      <td>NaN</td>\n",
       "      <td>360.0</td>\n",
       "      <td>1.0</td>\n",
       "      <td>Urban</td>\n",
       "      <td>Y</td>\n",
       "    </tr>\n",
       "    <tr>\n",
       "      <th>1</th>\n",
       "      <td>LP001003</td>\n",
       "      <td>Male</td>\n",
       "      <td>Yes</td>\n",
       "      <td>1</td>\n",
       "      <td>Graduate</td>\n",
       "      <td>No</td>\n",
       "      <td>4583</td>\n",
       "      <td>1508.0</td>\n",
       "      <td>128.0</td>\n",
       "      <td>360.0</td>\n",
       "      <td>1.0</td>\n",
       "      <td>Rural</td>\n",
       "      <td>N</td>\n",
       "    </tr>\n",
       "    <tr>\n",
       "      <th>2</th>\n",
       "      <td>LP001005</td>\n",
       "      <td>Male</td>\n",
       "      <td>Yes</td>\n",
       "      <td>0</td>\n",
       "      <td>Graduate</td>\n",
       "      <td>Yes</td>\n",
       "      <td>3000</td>\n",
       "      <td>0.0</td>\n",
       "      <td>66.0</td>\n",
       "      <td>360.0</td>\n",
       "      <td>1.0</td>\n",
       "      <td>Urban</td>\n",
       "      <td>Y</td>\n",
       "    </tr>\n",
       "    <tr>\n",
       "      <th>3</th>\n",
       "      <td>LP001006</td>\n",
       "      <td>Male</td>\n",
       "      <td>Yes</td>\n",
       "      <td>0</td>\n",
       "      <td>Not Graduate</td>\n",
       "      <td>No</td>\n",
       "      <td>2583</td>\n",
       "      <td>2358.0</td>\n",
       "      <td>120.0</td>\n",
       "      <td>360.0</td>\n",
       "      <td>1.0</td>\n",
       "      <td>Urban</td>\n",
       "      <td>Y</td>\n",
       "    </tr>\n",
       "    <tr>\n",
       "      <th>4</th>\n",
       "      <td>LP001008</td>\n",
       "      <td>Male</td>\n",
       "      <td>No</td>\n",
       "      <td>0</td>\n",
       "      <td>Graduate</td>\n",
       "      <td>No</td>\n",
       "      <td>6000</td>\n",
       "      <td>0.0</td>\n",
       "      <td>141.0</td>\n",
       "      <td>360.0</td>\n",
       "      <td>1.0</td>\n",
       "      <td>Urban</td>\n",
       "      <td>Y</td>\n",
       "    </tr>\n",
       "  </tbody>\n",
       "</table>\n",
       "</div>"
      ],
      "text/plain": [
       "    Loan_ID Gender Married Dependents     Education Self_Employed  \\\n",
       "0  LP001002   Male      No          0      Graduate            No   \n",
       "1  LP001003   Male     Yes          1      Graduate            No   \n",
       "2  LP001005   Male     Yes          0      Graduate           Yes   \n",
       "3  LP001006   Male     Yes          0  Not Graduate            No   \n",
       "4  LP001008   Male      No          0      Graduate            No   \n",
       "\n",
       "   ApplicantIncome  CoapplicantIncome  LoanAmount  Loan_Amount_Term  \\\n",
       "0             5849                0.0         NaN             360.0   \n",
       "1             4583             1508.0       128.0             360.0   \n",
       "2             3000                0.0        66.0             360.0   \n",
       "3             2583             2358.0       120.0             360.0   \n",
       "4             6000                0.0       141.0             360.0   \n",
       "\n",
       "   Credit_History Property_Area Loan_Status  \n",
       "0             1.0         Urban           Y  \n",
       "1             1.0         Rural           N  \n",
       "2             1.0         Urban           Y  \n",
       "3             1.0         Urban           Y  \n",
       "4             1.0         Urban           Y  "
      ]
     },
     "execution_count": 76,
     "metadata": {},
     "output_type": "execute_result"
    }
   ],
   "source": [
    "df.head()"
   ]
  },
  {
   "cell_type": "code",
   "execution_count": 77,
   "metadata": {},
   "outputs": [
    {
     "data": {
      "text/plain": [
       "(614, 13)"
      ]
     },
     "execution_count": 77,
     "metadata": {},
     "output_type": "execute_result"
    }
   ],
   "source": [
    "df.shape"
   ]
  },
  {
   "cell_type": "code",
   "execution_count": 78,
   "metadata": {},
   "outputs": [
    {
     "data": {
      "text/plain": [
       "Loan_ID               0\n",
       "Gender               13\n",
       "Married               3\n",
       "Dependents           15\n",
       "Education             0\n",
       "Self_Employed        32\n",
       "ApplicantIncome       0\n",
       "CoapplicantIncome     0\n",
       "LoanAmount           22\n",
       "Loan_Amount_Term     14\n",
       "Credit_History       50\n",
       "Property_Area         0\n",
       "Loan_Status           0\n",
       "dtype: int64"
      ]
     },
     "execution_count": 78,
     "metadata": {},
     "output_type": "execute_result"
    }
   ],
   "source": [
    "# Vérifier la présence des valeurs manquantes\n",
    "df.isnull().sum()"
   ]
  },
  {
   "cell_type": "code",
   "execution_count": 79,
   "metadata": {},
   "outputs": [
    {
     "data": {
      "text/plain": [
       "Loan_ID               object\n",
       "Gender                object\n",
       "Married               object\n",
       "Dependents            object\n",
       "Education             object\n",
       "Self_Employed         object\n",
       "ApplicantIncome        int64\n",
       "CoapplicantIncome    float64\n",
       "LoanAmount           float64\n",
       "Loan_Amount_Term     float64\n",
       "Credit_History       float64\n",
       "Property_Area         object\n",
       "Loan_Status           object\n",
       "dtype: object"
      ]
     },
     "execution_count": 79,
     "metadata": {},
     "output_type": "execute_result"
    }
   ],
   "source": [
    "#Afficher les types des colonnes\n",
    "df.dtypes"
   ]
  },
  {
   "cell_type": "code",
   "execution_count": 80,
   "metadata": {},
   "outputs": [],
   "source": [
    "# Fonction pour modifier les valeurs manquantes des variables catégorielles par la mode\n",
    "def replace_null_obj(data_frame, col_name):\n",
    "    data_frame[col_name].fillna(data_frame[col_name].mode()[0], inplace=True)"
   ]
  },
  {
   "cell_type": "code",
   "execution_count": 81,
   "metadata": {},
   "outputs": [],
   "source": [
    "# Remplacer les variables catégorielles manquantes par le mode\n",
    "for col_name in list(df.columns):\n",
    "    if df.dtypes[col_name] == np.object and df[col_name].isnull().values.any():\n",
    "         replace_null_obj(df, col_name)"
   ]
  },
  {
   "cell_type": "code",
   "execution_count": 82,
   "metadata": {},
   "outputs": [
    {
     "data": {
      "text/plain": [
       "Loan_ID               0\n",
       "Gender                0\n",
       "Married               0\n",
       "Dependents            0\n",
       "Education             0\n",
       "Self_Employed         0\n",
       "ApplicantIncome       0\n",
       "CoapplicantIncome     0\n",
       "LoanAmount           22\n",
       "Loan_Amount_Term     14\n",
       "Credit_History       50\n",
       "Property_Area         0\n",
       "Loan_Status           0\n",
       "dtype: int64"
      ]
     },
     "execution_count": 82,
     "metadata": {},
     "output_type": "execute_result"
    }
   ],
   "source": [
    "df.isnull().sum()"
   ]
  },
  {
   "cell_type": "code",
   "execution_count": 83,
   "metadata": {},
   "outputs": [],
   "source": [
    "def replace_null_num(data_frame, col_name):\n",
    "    data_frame[col_name].fillna(data_frame[col_name].mean(), inplace=True)"
   ]
  },
  {
   "cell_type": "code",
   "execution_count": 84,
   "metadata": {},
   "outputs": [],
   "source": [
    "# Remplacer les variables quantitatives manquantes par la moyenne\n",
    "for col_name in list(df.columns):\n",
    "    if df.dtypes[col_name] == np.int64 or df.dtypes[col_name] == np.float64 and df[col_name].isnull().values.any():\n",
    "        #replace_null(df, col_name)\n",
    "         replace_null_num(df, col_name)"
   ]
  },
  {
   "cell_type": "code",
   "execution_count": 85,
   "metadata": {},
   "outputs": [
    {
     "data": {
      "text/plain": [
       "Loan_ID              0\n",
       "Gender               0\n",
       "Married              0\n",
       "Dependents           0\n",
       "Education            0\n",
       "Self_Employed        0\n",
       "ApplicantIncome      0\n",
       "CoapplicantIncome    0\n",
       "LoanAmount           0\n",
       "Loan_Amount_Term     0\n",
       "Credit_History       0\n",
       "Property_Area        0\n",
       "Loan_Status          0\n",
       "dtype: int64"
      ]
     },
     "execution_count": 85,
     "metadata": {},
     "output_type": "execute_result"
    }
   ],
   "source": [
    "df.isnull().sum()"
   ]
  },
  {
   "cell_type": "code",
   "execution_count": 89,
   "metadata": {},
   "outputs": [],
   "source": [
    "#Supprimer la colonne des identifiants\n",
    "df = df.drop('Loan_ID', axis=1)"
   ]
  },
  {
   "cell_type": "code",
   "execution_count": 91,
   "metadata": {},
   "outputs": [
    {
     "data": {
      "text/plain": [
       "(614, 12)"
      ]
     },
     "execution_count": 91,
     "metadata": {},
     "output_type": "execute_result"
    }
   ],
   "source": [
    "df.shape"
   ]
  },
  {
   "cell_type": "code",
   "execution_count": 98,
   "metadata": {},
   "outputs": [],
   "source": [
    "# Convertir les variables qualitatives en variables quantitatives grâce à la foncition map\n",
    "df['Gender'] = df['Gender'].map({'Male': 0, 'Female': 1})\n",
    "df['Married'] = df['Married'].map({'No': 0, 'Yes': 1})\n",
    "df['Dependents'] = df['Dependents'].map({'0': 0, '1': 1, '2': 2, '3+': 3})\n",
    "df['Education'] = df['Education'].map({'Graduate': 1, 'Not Graduate': 0})\n",
    "df['Self_Employed'] = df['Self_Employed'].map({'No': 0, 'Yes': 1})\n",
    "df['Property_Area'] = df['Property_Area'].map({'Rural': 0, 'Semiurban': 1, 'Urban': 2})\n",
    "df['Loan_Status'] = df['Loan_Status'].map({'N': 0, 'Y': 1})"
   ]
  },
  {
   "cell_type": "code",
   "execution_count": 99,
   "metadata": {},
   "outputs": [
    {
     "data": {
      "text/html": [
       "<div>\n",
       "<style scoped>\n",
       "    .dataframe tbody tr th:only-of-type {\n",
       "        vertical-align: middle;\n",
       "    }\n",
       "\n",
       "    .dataframe tbody tr th {\n",
       "        vertical-align: top;\n",
       "    }\n",
       "\n",
       "    .dataframe thead th {\n",
       "        text-align: right;\n",
       "    }\n",
       "</style>\n",
       "<table border=\"1\" class=\"dataframe\">\n",
       "  <thead>\n",
       "    <tr style=\"text-align: right;\">\n",
       "      <th></th>\n",
       "      <th>Gender</th>\n",
       "      <th>Married</th>\n",
       "      <th>Dependents</th>\n",
       "      <th>Education</th>\n",
       "      <th>Self_Employed</th>\n",
       "      <th>ApplicantIncome</th>\n",
       "      <th>CoapplicantIncome</th>\n",
       "      <th>LoanAmount</th>\n",
       "      <th>Loan_Amount_Term</th>\n",
       "      <th>Credit_History</th>\n",
       "      <th>Property_Area</th>\n",
       "      <th>Loan_Status</th>\n",
       "    </tr>\n",
       "  </thead>\n",
       "  <tbody>\n",
       "    <tr>\n",
       "      <th>0</th>\n",
       "      <td>0</td>\n",
       "      <td>0</td>\n",
       "      <td>0</td>\n",
       "      <td>1</td>\n",
       "      <td>0</td>\n",
       "      <td>5849</td>\n",
       "      <td>0.0</td>\n",
       "      <td>146.412162</td>\n",
       "      <td>360.0</td>\n",
       "      <td>1.0</td>\n",
       "      <td>2</td>\n",
       "      <td>1</td>\n",
       "    </tr>\n",
       "    <tr>\n",
       "      <th>1</th>\n",
       "      <td>0</td>\n",
       "      <td>1</td>\n",
       "      <td>1</td>\n",
       "      <td>1</td>\n",
       "      <td>0</td>\n",
       "      <td>4583</td>\n",
       "      <td>1508.0</td>\n",
       "      <td>128.000000</td>\n",
       "      <td>360.0</td>\n",
       "      <td>1.0</td>\n",
       "      <td>0</td>\n",
       "      <td>0</td>\n",
       "    </tr>\n",
       "    <tr>\n",
       "      <th>2</th>\n",
       "      <td>0</td>\n",
       "      <td>1</td>\n",
       "      <td>0</td>\n",
       "      <td>1</td>\n",
       "      <td>1</td>\n",
       "      <td>3000</td>\n",
       "      <td>0.0</td>\n",
       "      <td>66.000000</td>\n",
       "      <td>360.0</td>\n",
       "      <td>1.0</td>\n",
       "      <td>2</td>\n",
       "      <td>1</td>\n",
       "    </tr>\n",
       "    <tr>\n",
       "      <th>3</th>\n",
       "      <td>0</td>\n",
       "      <td>1</td>\n",
       "      <td>0</td>\n",
       "      <td>0</td>\n",
       "      <td>0</td>\n",
       "      <td>2583</td>\n",
       "      <td>2358.0</td>\n",
       "      <td>120.000000</td>\n",
       "      <td>360.0</td>\n",
       "      <td>1.0</td>\n",
       "      <td>2</td>\n",
       "      <td>1</td>\n",
       "    </tr>\n",
       "    <tr>\n",
       "      <th>4</th>\n",
       "      <td>0</td>\n",
       "      <td>0</td>\n",
       "      <td>0</td>\n",
       "      <td>1</td>\n",
       "      <td>0</td>\n",
       "      <td>6000</td>\n",
       "      <td>0.0</td>\n",
       "      <td>141.000000</td>\n",
       "      <td>360.0</td>\n",
       "      <td>1.0</td>\n",
       "      <td>2</td>\n",
       "      <td>1</td>\n",
       "    </tr>\n",
       "  </tbody>\n",
       "</table>\n",
       "</div>"
      ],
      "text/plain": [
       "   Gender  Married  Dependents  Education  Self_Employed  ApplicantIncome  \\\n",
       "0       0        0           0          1              0             5849   \n",
       "1       0        1           1          1              0             4583   \n",
       "2       0        1           0          1              1             3000   \n",
       "3       0        1           0          0              0             2583   \n",
       "4       0        0           0          1              0             6000   \n",
       "\n",
       "   CoapplicantIncome  LoanAmount  Loan_Amount_Term  Credit_History  \\\n",
       "0                0.0  146.412162             360.0             1.0   \n",
       "1             1508.0  128.000000             360.0             1.0   \n",
       "2                0.0   66.000000             360.0             1.0   \n",
       "3             2358.0  120.000000             360.0             1.0   \n",
       "4                0.0  141.000000             360.0             1.0   \n",
       "\n",
       "   Property_Area  Loan_Status  \n",
       "0              2            1  \n",
       "1              0            0  \n",
       "2              2            1  \n",
       "3              2            1  \n",
       "4              2            1  "
      ]
     },
     "execution_count": 99,
     "metadata": {},
     "output_type": "execute_result"
    }
   ],
   "source": [
    "df.head()"
   ]
  },
  {
   "cell_type": "code",
   "execution_count": 100,
   "metadata": {},
   "outputs": [],
   "source": [
    "# Normalisez les variables en mettant leurs valeurs entre 0 et 1 [Xnorm = (X-Xmin)/(Xmax-Xmin)]\n",
    "for i in df.columns[1:]:\n",
    "    df[i] = (df[i] - df[i].min()) / (df[i].max() - df[i].min())"
   ]
  },
  {
   "cell_type": "code",
   "execution_count": 101,
   "metadata": {},
   "outputs": [
    {
     "data": {
      "text/html": [
       "<div>\n",
       "<style scoped>\n",
       "    .dataframe tbody tr th:only-of-type {\n",
       "        vertical-align: middle;\n",
       "    }\n",
       "\n",
       "    .dataframe tbody tr th {\n",
       "        vertical-align: top;\n",
       "    }\n",
       "\n",
       "    .dataframe thead th {\n",
       "        text-align: right;\n",
       "    }\n",
       "</style>\n",
       "<table border=\"1\" class=\"dataframe\">\n",
       "  <thead>\n",
       "    <tr style=\"text-align: right;\">\n",
       "      <th></th>\n",
       "      <th>Gender</th>\n",
       "      <th>Married</th>\n",
       "      <th>Dependents</th>\n",
       "      <th>Education</th>\n",
       "      <th>Self_Employed</th>\n",
       "      <th>ApplicantIncome</th>\n",
       "      <th>CoapplicantIncome</th>\n",
       "      <th>LoanAmount</th>\n",
       "      <th>Loan_Amount_Term</th>\n",
       "      <th>Credit_History</th>\n",
       "      <th>Property_Area</th>\n",
       "      <th>Loan_Status</th>\n",
       "    </tr>\n",
       "  </thead>\n",
       "  <tbody>\n",
       "    <tr>\n",
       "      <th>0</th>\n",
       "      <td>0</td>\n",
       "      <td>0.0</td>\n",
       "      <td>0.000000</td>\n",
       "      <td>1.0</td>\n",
       "      <td>0.0</td>\n",
       "      <td>0.070489</td>\n",
       "      <td>0.000000</td>\n",
       "      <td>0.198860</td>\n",
       "      <td>0.74359</td>\n",
       "      <td>1.0</td>\n",
       "      <td>1.0</td>\n",
       "      <td>1.0</td>\n",
       "    </tr>\n",
       "    <tr>\n",
       "      <th>1</th>\n",
       "      <td>0</td>\n",
       "      <td>1.0</td>\n",
       "      <td>0.333333</td>\n",
       "      <td>1.0</td>\n",
       "      <td>0.0</td>\n",
       "      <td>0.054830</td>\n",
       "      <td>0.036192</td>\n",
       "      <td>0.172214</td>\n",
       "      <td>0.74359</td>\n",
       "      <td>1.0</td>\n",
       "      <td>0.0</td>\n",
       "      <td>0.0</td>\n",
       "    </tr>\n",
       "    <tr>\n",
       "      <th>2</th>\n",
       "      <td>0</td>\n",
       "      <td>1.0</td>\n",
       "      <td>0.000000</td>\n",
       "      <td>1.0</td>\n",
       "      <td>1.0</td>\n",
       "      <td>0.035250</td>\n",
       "      <td>0.000000</td>\n",
       "      <td>0.082489</td>\n",
       "      <td>0.74359</td>\n",
       "      <td>1.0</td>\n",
       "      <td>1.0</td>\n",
       "      <td>1.0</td>\n",
       "    </tr>\n",
       "    <tr>\n",
       "      <th>3</th>\n",
       "      <td>0</td>\n",
       "      <td>1.0</td>\n",
       "      <td>0.000000</td>\n",
       "      <td>0.0</td>\n",
       "      <td>0.0</td>\n",
       "      <td>0.030093</td>\n",
       "      <td>0.056592</td>\n",
       "      <td>0.160637</td>\n",
       "      <td>0.74359</td>\n",
       "      <td>1.0</td>\n",
       "      <td>1.0</td>\n",
       "      <td>1.0</td>\n",
       "    </tr>\n",
       "    <tr>\n",
       "      <th>4</th>\n",
       "      <td>0</td>\n",
       "      <td>0.0</td>\n",
       "      <td>0.000000</td>\n",
       "      <td>1.0</td>\n",
       "      <td>0.0</td>\n",
       "      <td>0.072356</td>\n",
       "      <td>0.000000</td>\n",
       "      <td>0.191027</td>\n",
       "      <td>0.74359</td>\n",
       "      <td>1.0</td>\n",
       "      <td>1.0</td>\n",
       "      <td>1.0</td>\n",
       "    </tr>\n",
       "  </tbody>\n",
       "</table>\n",
       "</div>"
      ],
      "text/plain": [
       "   Gender  Married  Dependents  Education  Self_Employed  ApplicantIncome  \\\n",
       "0       0      0.0    0.000000        1.0            0.0         0.070489   \n",
       "1       0      1.0    0.333333        1.0            0.0         0.054830   \n",
       "2       0      1.0    0.000000        1.0            1.0         0.035250   \n",
       "3       0      1.0    0.000000        0.0            0.0         0.030093   \n",
       "4       0      0.0    0.000000        1.0            0.0         0.072356   \n",
       "\n",
       "   CoapplicantIncome  LoanAmount  Loan_Amount_Term  Credit_History  \\\n",
       "0           0.000000    0.198860           0.74359             1.0   \n",
       "1           0.036192    0.172214           0.74359             1.0   \n",
       "2           0.000000    0.082489           0.74359             1.0   \n",
       "3           0.056592    0.160637           0.74359             1.0   \n",
       "4           0.000000    0.191027           0.74359             1.0   \n",
       "\n",
       "   Property_Area  Loan_Status  \n",
       "0            1.0          1.0  \n",
       "1            0.0          0.0  \n",
       "2            1.0          1.0  \n",
       "3            1.0          1.0  \n",
       "4            1.0          1.0  "
      ]
     },
     "execution_count": 101,
     "metadata": {},
     "output_type": "execute_result"
    }
   ],
   "source": [
    "df.head()"
   ]
  },
  {
   "cell_type": "code",
   "execution_count": 102,
   "metadata": {},
   "outputs": [],
   "source": [
    "# Extraction des variables indépendantes\n",
    "X = df.iloc[:, :-1].values"
   ]
  },
  {
   "cell_type": "code",
   "execution_count": 103,
   "metadata": {},
   "outputs": [],
   "source": [
    "y = df.iloc[:, -1].values"
   ]
  },
  {
   "cell_type": "code",
   "execution_count": 105,
   "metadata": {},
   "outputs": [],
   "source": [
    "# Séparer le dataset en train et test\n",
    "X_train, X_test, y_train, y_test = train_test_split(X, y, test_size = 0.2, random_state =10)"
   ]
  },
  {
   "cell_type": "code",
   "execution_count": 106,
   "metadata": {},
   "outputs": [
    {
     "data": {
      "text/plain": [
       "(((491, 11), (491,)), ((123, 11), (123,)))"
      ]
     },
     "execution_count": 106,
     "metadata": {},
     "output_type": "execute_result"
    }
   ],
   "source": [
    "(X_train.shape, y_train.shape), (X_test.shape, y_test.shape)"
   ]
  },
  {
   "cell_type": "code",
   "execution_count": 107,
   "metadata": {},
   "outputs": [],
   "source": [
    "import keras\n",
    "from keras.models import Sequential\n",
    "from keras.layers import InputLayer, Dense "
   ]
  },
  {
   "cell_type": "code",
   "execution_count": 111,
   "metadata": {},
   "outputs": [
    {
     "name": "stdout",
     "output_type": "stream",
     "text": [
      "11\n"
     ]
    }
   ],
   "source": [
    "# Nombres des neurons d'entrées\n",
    "input_neurons= X_train.shape[1]\n",
    "print(input_neurons)"
   ]
  },
  {
   "cell_type": "code",
   "execution_count": 112,
   "metadata": {},
   "outputs": [],
   "source": [
    "# Comme il s'agit d'une classification binaire nous avons un seul neuron de sortie\n",
    "output_neurons = 1"
   ]
  },
  {
   "cell_type": "code",
   "execution_count": 143,
   "metadata": {},
   "outputs": [
    {
     "name": "stdout",
     "output_type": "stream",
     "text": [
      "Model: \"sequential_2\"\n",
      "_________________________________________________________________\n",
      "Layer (type)                 Output Shape              Param #   \n",
      "=================================================================\n",
      "dense_6 (Dense)              (None, 10)                120       \n",
      "_________________________________________________________________\n",
      "dense_7 (Dense)              (None, 5)                 55        \n",
      "_________________________________________________________________\n",
      "dense_8 (Dense)              (None, 1)                 6         \n",
      "=================================================================\n",
      "Total params: 181\n",
      "Trainable params: 181\n",
      "Non-trainable params: 0\n",
      "_________________________________________________________________\n"
     ]
    }
   ],
   "source": [
    "# Architecture du modèle \n",
    "classifier = Sequential()\n",
    "classifier.add(Dense(units = 10, kernel_initializer = 'uniform', activation = 'relu', input_dim = input_neurons))\n",
    "classifier.add(Dense(units = 5, kernel_initializer = 'uniform', activation = 'relu'))\n",
    "classifier.add(Dense(units = 1, kernel_initializer = 'uniform', activation = 'sigmoid'))\n",
    "classifier.summary()"
   ]
  },
  {
   "cell_type": "code",
   "execution_count": 144,
   "metadata": {},
   "outputs": [],
   "source": [
    "# Compiler le réseau de neuron\n",
    "classifier.compile(optimizer = 'adam', loss = 'binary_crossentropy', metrics = ['accuracy'])\n"
   ]
  },
  {
   "cell_type": "code",
   "execution_count": 145,
   "metadata": {},
   "outputs": [
    {
     "name": "stdout",
     "output_type": "stream",
     "text": [
      "Epoch 1/60\n",
      "50/50 [==============================] - 0s 3ms/step - loss: 0.6883 - accuracy: 0.6680 - val_loss: 0.6797 - val_accuracy: 0.7073\n",
      "Epoch 2/60\n",
      "50/50 [==============================] - 0s 1ms/step - loss: 0.6700 - accuracy: 0.6823 - val_loss: 0.6464 - val_accuracy: 0.7073\n",
      "Epoch 3/60\n",
      "50/50 [==============================] - 0s 1ms/step - loss: 0.6318 - accuracy: 0.6823 - val_loss: 0.6060 - val_accuracy: 0.7073\n",
      "Epoch 4/60\n",
      "50/50 [==============================] - 0s 1ms/step - loss: 0.6097 - accuracy: 0.6823 - val_loss: 0.5945 - val_accuracy: 0.7073\n",
      "Epoch 5/60\n",
      "50/50 [==============================] - 0s 1ms/step - loss: 0.6041 - accuracy: 0.6823 - val_loss: 0.5861 - val_accuracy: 0.7073\n",
      "Epoch 6/60\n",
      "50/50 [==============================] - 0s 2ms/step - loss: 0.5939 - accuracy: 0.6823 - val_loss: 0.5816 - val_accuracy: 0.7073\n",
      "Epoch 7/60\n",
      "50/50 [==============================] - 0s 2ms/step - loss: 0.5880 - accuracy: 0.6823 - val_loss: 0.5756 - val_accuracy: 0.7073\n",
      "Epoch 8/60\n",
      "50/50 [==============================] - 0s 2ms/step - loss: 0.5812 - accuracy: 0.6823 - val_loss: 0.5695 - val_accuracy: 0.7073\n",
      "Epoch 9/60\n",
      "50/50 [==============================] - 0s 1ms/step - loss: 0.5742 - accuracy: 0.6823 - val_loss: 0.5627 - val_accuracy: 0.7073\n",
      "Epoch 10/60\n",
      "50/50 [==============================] - 0s 2ms/step - loss: 0.5647 - accuracy: 0.6823 - val_loss: 0.5557 - val_accuracy: 0.7073\n",
      "Epoch 11/60\n",
      "50/50 [==============================] - 0s 1ms/step - loss: 0.5551 - accuracy: 0.6823 - val_loss: 0.5475 - val_accuracy: 0.7073\n",
      "Epoch 12/60\n",
      "50/50 [==============================] - 0s 1ms/step - loss: 0.5472 - accuracy: 0.6823 - val_loss: 0.5424 - val_accuracy: 0.7073\n",
      "Epoch 13/60\n",
      "50/50 [==============================] - 0s 1ms/step - loss: 0.5429 - accuracy: 0.6823 - val_loss: 0.5385 - val_accuracy: 0.7073\n",
      "Epoch 14/60\n",
      "50/50 [==============================] - 0s 2ms/step - loss: 0.5384 - accuracy: 0.6823 - val_loss: 0.5367 - val_accuracy: 0.7073\n",
      "Epoch 15/60\n",
      "50/50 [==============================] - 0s 2ms/step - loss: 0.5357 - accuracy: 0.6823 - val_loss: 0.5334 - val_accuracy: 0.7073\n",
      "Epoch 16/60\n",
      "50/50 [==============================] - 0s 1ms/step - loss: 0.5365 - accuracy: 0.8004 - val_loss: 0.5326 - val_accuracy: 0.7561\n",
      "Epoch 17/60\n",
      "50/50 [==============================] - 0s 2ms/step - loss: 0.5338 - accuracy: 0.8086 - val_loss: 0.5326 - val_accuracy: 0.7642\n",
      "Epoch 18/60\n",
      "50/50 [==============================] - 0s 2ms/step - loss: 0.5315 - accuracy: 0.7821 - val_loss: 0.5301 - val_accuracy: 0.7886\n",
      "Epoch 19/60\n",
      "50/50 [==============================] - 0s 2ms/step - loss: 0.5284 - accuracy: 0.8126 - val_loss: 0.5299 - val_accuracy: 0.7886\n",
      "Epoch 20/60\n",
      "50/50 [==============================] - 0s 1ms/step - loss: 0.5267 - accuracy: 0.8106 - val_loss: 0.5292 - val_accuracy: 0.7886\n",
      "Epoch 21/60\n",
      "50/50 [==============================] - 0s 1ms/step - loss: 0.5253 - accuracy: 0.8126 - val_loss: 0.5278 - val_accuracy: 0.7967\n",
      "Epoch 22/60\n",
      "50/50 [==============================] - 0s 1ms/step - loss: 0.5239 - accuracy: 0.8126 - val_loss: 0.5263 - val_accuracy: 0.7967\n",
      "Epoch 23/60\n",
      "50/50 [==============================] - 0s 2ms/step - loss: 0.5220 - accuracy: 0.8126 - val_loss: 0.5243 - val_accuracy: 0.7967\n",
      "Epoch 24/60\n",
      "50/50 [==============================] - 0s 2ms/step - loss: 0.5174 - accuracy: 0.8126 - val_loss: 0.5197 - val_accuracy: 0.7967\n",
      "Epoch 25/60\n",
      "50/50 [==============================] - 0s 2ms/step - loss: 0.5115 - accuracy: 0.8126 - val_loss: 0.5140 - val_accuracy: 0.7967\n",
      "Epoch 26/60\n",
      "50/50 [==============================] - 0s 1ms/step - loss: 0.5047 - accuracy: 0.8147 - val_loss: 0.5091 - val_accuracy: 0.7967\n",
      "Epoch 27/60\n",
      "50/50 [==============================] - 0s 1ms/step - loss: 0.4987 - accuracy: 0.8147 - val_loss: 0.5067 - val_accuracy: 0.7967\n",
      "Epoch 28/60\n",
      "50/50 [==============================] - 0s 1ms/step - loss: 0.4935 - accuracy: 0.8147 - val_loss: 0.5005 - val_accuracy: 0.7967\n",
      "Epoch 29/60\n",
      "50/50 [==============================] - 0s 1ms/step - loss: 0.4881 - accuracy: 0.8147 - val_loss: 0.4984 - val_accuracy: 0.7967\n",
      "Epoch 30/60\n",
      "50/50 [==============================] - 0s 1ms/step - loss: 0.4870 - accuracy: 0.8126 - val_loss: 0.4966 - val_accuracy: 0.7967\n",
      "Epoch 31/60\n",
      "50/50 [==============================] - 0s 2ms/step - loss: 0.4815 - accuracy: 0.8147 - val_loss: 0.4937 - val_accuracy: 0.7967\n",
      "Epoch 32/60\n",
      "50/50 [==============================] - 0s 1ms/step - loss: 0.4794 - accuracy: 0.8167 - val_loss: 0.4888 - val_accuracy: 0.7967\n",
      "Epoch 33/60\n",
      "50/50 [==============================] - 0s 1ms/step - loss: 0.4770 - accuracy: 0.8147 - val_loss: 0.4886 - val_accuracy: 0.7967\n",
      "Epoch 34/60\n",
      "50/50 [==============================] - 0s 1ms/step - loss: 0.4744 - accuracy: 0.8147 - val_loss: 0.4886 - val_accuracy: 0.7967\n",
      "Epoch 35/60\n",
      "50/50 [==============================] - 0s 1ms/step - loss: 0.4719 - accuracy: 0.8167 - val_loss: 0.4835 - val_accuracy: 0.7967\n",
      "Epoch 36/60\n",
      "50/50 [==============================] - 0s 1ms/step - loss: 0.4713 - accuracy: 0.8147 - val_loss: 0.4867 - val_accuracy: 0.7967\n",
      "Epoch 37/60\n",
      "50/50 [==============================] - 0s 2ms/step - loss: 0.4705 - accuracy: 0.8147 - val_loss: 0.4816 - val_accuracy: 0.7967\n",
      "Epoch 38/60\n",
      "50/50 [==============================] - 0s 1ms/step - loss: 0.4724 - accuracy: 0.8126 - val_loss: 0.4942 - val_accuracy: 0.7967\n",
      "Epoch 39/60\n",
      "50/50 [==============================] - 0s 2ms/step - loss: 0.4693 - accuracy: 0.8147 - val_loss: 0.4860 - val_accuracy: 0.7967\n",
      "Epoch 40/60\n",
      "50/50 [==============================] - 0s 2ms/step - loss: 0.4663 - accuracy: 0.8147 - val_loss: 0.4811 - val_accuracy: 0.7967\n",
      "Epoch 41/60\n",
      "50/50 [==============================] - 0s 1ms/step - loss: 0.4692 - accuracy: 0.8126 - val_loss: 0.4845 - val_accuracy: 0.7967\n",
      "Epoch 42/60\n",
      "50/50 [==============================] - 0s 1ms/step - loss: 0.4670 - accuracy: 0.8167 - val_loss: 0.4810 - val_accuracy: 0.7967\n",
      "Epoch 43/60\n",
      "50/50 [==============================] - 0s 1ms/step - loss: 0.4648 - accuracy: 0.8147 - val_loss: 0.4824 - val_accuracy: 0.7967\n",
      "Epoch 44/60\n",
      "50/50 [==============================] - 0s 1ms/step - loss: 0.4632 - accuracy: 0.8147 - val_loss: 0.4791 - val_accuracy: 0.7967\n",
      "Epoch 45/60\n",
      "50/50 [==============================] - 0s 2ms/step - loss: 0.4636 - accuracy: 0.8147 - val_loss: 0.4813 - val_accuracy: 0.7967\n",
      "Epoch 46/60\n",
      "50/50 [==============================] - 0s 2ms/step - loss: 0.4624 - accuracy: 0.8147 - val_loss: 0.4802 - val_accuracy: 0.7967\n",
      "Epoch 47/60\n",
      "50/50 [==============================] - 0s 2ms/step - loss: 0.4650 - accuracy: 0.8167 - val_loss: 0.4783 - val_accuracy: 0.7967\n",
      "Epoch 48/60\n",
      "50/50 [==============================] - 0s 1ms/step - loss: 0.4638 - accuracy: 0.8126 - val_loss: 0.4811 - val_accuracy: 0.7967\n",
      "Epoch 49/60\n",
      "50/50 [==============================] - 0s 2ms/step - loss: 0.4648 - accuracy: 0.8126 - val_loss: 0.4815 - val_accuracy: 0.7967\n",
      "Epoch 50/60\n",
      "50/50 [==============================] - 0s 2ms/step - loss: 0.4616 - accuracy: 0.8147 - val_loss: 0.4806 - val_accuracy: 0.7967\n",
      "Epoch 51/60\n",
      "50/50 [==============================] - 0s 1ms/step - loss: 0.4604 - accuracy: 0.8147 - val_loss: 0.4833 - val_accuracy: 0.7967\n",
      "Epoch 52/60\n",
      "50/50 [==============================] - 0s 1ms/step - loss: 0.4613 - accuracy: 0.8126 - val_loss: 0.4806 - val_accuracy: 0.7967\n",
      "Epoch 53/60\n",
      "50/50 [==============================] - 0s 1ms/step - loss: 0.4595 - accuracy: 0.8147 - val_loss: 0.4810 - val_accuracy: 0.7967\n",
      "Epoch 54/60\n",
      "50/50 [==============================] - 0s 2ms/step - loss: 0.4586 - accuracy: 0.8126 - val_loss: 0.4826 - val_accuracy: 0.7967\n",
      "Epoch 55/60\n",
      "50/50 [==============================] - 0s 2ms/step - loss: 0.4579 - accuracy: 0.8147 - val_loss: 0.4808 - val_accuracy: 0.7967\n",
      "Epoch 56/60\n",
      "50/50 [==============================] - 0s 1ms/step - loss: 0.4624 - accuracy: 0.8126 - val_loss: 0.4818 - val_accuracy: 0.7967\n",
      "Epoch 57/60\n",
      "50/50 [==============================] - 0s 2ms/step - loss: 0.4569 - accuracy: 0.8147 - val_loss: 0.4820 - val_accuracy: 0.7967\n",
      "Epoch 58/60\n",
      "50/50 [==============================] - 0s 2ms/step - loss: 0.4564 - accuracy: 0.8126 - val_loss: 0.4825 - val_accuracy: 0.7967\n",
      "Epoch 59/60\n"
     ]
    },
    {
     "name": "stdout",
     "output_type": "stream",
     "text": [
      "50/50 [==============================] - 0s 1ms/step - loss: 0.4570 - accuracy: 0.8126 - val_loss: 0.4842 - val_accuracy: 0.7967\n",
      "Epoch 60/60\n",
      "50/50 [==============================] - 0s 1ms/step - loss: 0.4555 - accuracy: 0.8147 - val_loss: 0.4808 - val_accuracy: 0.7967\n"
     ]
    }
   ],
   "source": [
    "# Entrainer le modèle\n",
    "EPOCHS = 60\n",
    "classifier_history = classifier.fit(X_train, y_train, validation_data=(X_test, y_test), batch_size = 10, epochs = EPOCHS)\n"
   ]
  },
  {
   "cell_type": "code",
   "execution_count": 146,
   "metadata": {},
   "outputs": [
    {
     "name": "stdout",
     "output_type": "stream",
     "text": [
      "dict_keys(['loss', 'accuracy', 'val_loss', 'val_accuracy'])\n"
     ]
    }
   ],
   "source": [
    "# Prédiction du testset\n",
    "prediction = classifier.predict(X_test)\n",
    "print(classifier_history.history.keys())"
   ]
  },
  {
   "cell_type": "code",
   "execution_count": 147,
   "metadata": {},
   "outputs": [
    {
     "data": {
      "image/png": "[encoded data removed]",
      "text/plain": [
       "<Figure size 432x288 with 1 Axes>"
      ]
     },
     "metadata": {
      "needs_background": "light"
     },
     "output_type": "display_data"
    }
   ],
   "source": [
    "# Resumé de l'historique du modèle\n",
    "N = np.arange(0, EPOCHS)\n",
    "plt.plot(classifier_history.history['loss'])\n",
    "plt.plot(classifier_history.history['val_loss'])\n",
    "plt.title('classifier loss')\n",
    "plt.ylabel('loss')\n",
    "plt.xlabel('epoch')\n",
    "plt.legend(['train', 'validation'], loc='upper left')\n",
    "plt.show()"
   ]
  },
  {
   "cell_type": "code",
   "execution_count": null,
   "metadata": {},
   "outputs": [],
   "source": []
  }
 ],
 "metadata": {
  "kernelspec": {
   "display_name": "Python 3",
   "language": "python",
   "name": "python3"
  },
  "language_info": {
   "codemirror_mode": {
    "name": "ipython",
    "version": 3
   },
   "file_extension": ".py",
   "mimetype": "text/x-python",
   "name": "python",
   "nbconvert_exporter": "python",
   "pygments_lexer": "ipython3",
   "version": "3.8.3"
  }
 },
 "nbformat": 4,
 "nbformat_minor": 4
}
